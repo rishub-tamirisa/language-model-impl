{
 "cells": [
  {
   "attachments": {},
   "cell_type": "markdown",
   "metadata": {},
   "source": [
    "# Training a Transformer Encoder with MLM Objective on BERT-style tokens / wikitext dataset"
   ]
  },
  {
   "attachments": {},
   "cell_type": "markdown",
   "metadata": {},
   "source": [
    "### 1. Setup (retrieve data, look at `mask_dataset_for_mlm` for important MLM preprocessing steps)"
   ]
  },
  {
   "cell_type": "code",
   "execution_count": null,
   "metadata": {},
   "outputs": [],
   "source": [
    "from modules.encoder import EncoderModel\n",
    "from preprocess.mlm_preprocess import get_dataset_example, mask_dataset_for_mlm\n",
    "\n",
    "input_ids, tokenizer = get_dataset_example()\n",
    "mlm_input_ids, mlm_labels = mask_dataset_for_mlm(input_ids)"
   ]
  },
  {
   "attachments": {},
   "cell_type": "markdown",
   "metadata": {},
   "source": [
    "### 2. Define the model"
   ]
  },
  {
   "cell_type": "code",
   "execution_count": null,
   "metadata": {},
   "outputs": [],
   "source": [
    "import torch\n",
    "from modules.encoder import EncoderModel\n",
    "\n",
    "vocab_size = 30522#tokenizer.vocab_size #30522\n",
    "embed_dim = 512\n",
    "model_dim = 512\n",
    "n_layers = 6\n",
    "num_heads = 8\n",
    "encoder = EncoderModel(vocab_size=vocab_size, embed_dim=embed_dim, model_dim=model_dim, n_layers=n_layers, num_heads=num_heads)\n",
    "encoder.to(\"mps\")\n"
   ]
  },
  {
   "attachments": {},
   "cell_type": "markdown",
   "metadata": {},
   "source": [
    "### 3. Prepare DataLoaders"
   ]
  },
  {
   "cell_type": "code",
   "execution_count": null,
   "metadata": {},
   "outputs": [],
   "source": [
    "from torch.utils.data import TensorDataset, DataLoader\n",
    "\n",
    "dataset = TensorDataset( mlm_input_ids, mlm_labels )\n",
    "loader = DataLoader(dataset, batch_size = 32, shuffle=True)"
   ]
  },
  {
   "attachments": {},
   "cell_type": "markdown",
   "metadata": {},
   "source": [
    "### 4. Train"
   ]
  },
  {
   "cell_type": "code",
   "execution_count": null,
   "metadata": {},
   "outputs": [],
   "source": [
    "from tqdm import tqdm\n",
    "def train_mlm(epochs, model, tokenizer, loader, optimizer=torch.optim.Adam, device=torch.device('cpu')):\n",
    "    criterion = torch.nn.CrossEntropyLoss(ignore_index=-100)\n",
    "    model.train()\n",
    "    model.to(device)\n",
    "    with tqdm(total=epochs) as pbar:\n",
    "        for _ in range(epochs):\n",
    "            cur_batch = 0\n",
    "            total_batches = len(loader) \n",
    "            for batch in loader:\n",
    "                input_ids, labels = batch\n",
    "                input_ids = input_ids.to(device, dtype=torch.int64)\n",
    "                labels = labels.to(device, dtype=torch.int64)\n",
    "                optimizer.zero_grad()\n",
    "                output = model(input_ids)\n",
    "                loss = criterion(output.view(-1, tokenizer.vocab_size), labels.view(-1))\n",
    "                loss.backward()\n",
    "                optimizer.step()\n",
    "                cur_batch += 1\n",
    "                pbar.set_postfix(**{\"batch: \": f\"{cur_batch} / {total_batches}\", \"loss:\": loss.item()})\n",
    "        \n",
    "        checkpoint = {'vocab_size': tokenizer.vocab_size,\n",
    "                      'embed_dim': embed_dim,\n",
    "                      'model_dim': model_dim,\n",
    "                      'n_layers': n_layers,\n",
    "                      'num_heads': num_heads,\n",
    "                      'state_dict': model.state_dict()}\n",
    "        torch.save(checkpoint, 'model_checkpoints/checkpoint.pth')\n",
    "\n",
    "train_mlm(epochs=4, tokenizer=tokenizer, model=encoder, loader=loader, optimizer=torch.optim.Adam(encoder.parameters(), lr=1e-4))"
   ]
  },
  {
   "cell_type": "code",
   "execution_count": null,
   "metadata": {},
   "outputs": [],
   "source": [
    "# print number of parameters in model\n",
    "def count_parameters(model):\n",
    "    return sum(p.numel() for p in model.parameters() if p.requires_grad)\n",
    "\n",
    "print(f'The model has {count_parameters(encoder):,} trainable parameters')\n",
    "\n",
    "# print model architecture\n",
    "print(encoder)\n"
   ]
  },
  {
   "cell_type": "code",
   "execution_count": null,
   "metadata": {},
   "outputs": [],
   "source": [
    "def load_model_from_checkpoint(checkpoint_path):\n",
    "    checkpoint = torch.load(checkpoint_path, map_location=torch.device('cpu'))\n",
    "    model = EncoderModel(vocab_size=checkpoint['vocab_size'], \n",
    "                         embed_dim=checkpoint['embed_dim'], \n",
    "                         model_dim=checkpoint['model_dim'], \n",
    "                         n_layers=checkpoint['n_layers'], \n",
    "                         num_heads=checkpoint['num_heads'])\n",
    "    model.load_state_dict(checkpoint['state_dict'])\n",
    "    return model\n",
    "\n",
    "# load model from checkpoint\n",
    "encoder = load_model_from_checkpoint('model_checkpoints/checkpoint2.pth')\n",
    "\n",
    "# test model on input text with masked tokens\n",
    "text = \"I love [MASK] and [MASK] .\"\n",
    "input_ids = torch.tensor([tokenizer.encode(text)])\n",
    "\n",
    "outputs = encoder(input_ids) # (batch_size, seq_len, vocab_size)\n",
    "predicted_index = torch.argmax(torch.softmax(outputs, dim=-1), dim=-1)\n",
    "predicted_token = tokenizer.convert_ids_to_tokens(predicted_index[0].tolist())\n",
    "\n",
    "print(predicted_token)\n",
    "\n"
   ]
  }
 ],
 "metadata": {
  "kernelspec": {
   "display_name": "LM-impl",
   "language": "python",
   "name": "python3"
  },
  "language_info": {
   "codemirror_mode": {
    "name": "ipython",
    "version": 3
   },
   "file_extension": ".py",
   "mimetype": "text/x-python",
   "name": "python",
   "nbconvert_exporter": "python",
   "pygments_lexer": "ipython3",
   "version": "3.10.8"
  },
  "orig_nbformat": 4,
  "vscode": {
   "interpreter": {
    "hash": "bbbfbac07cdef3f27747317668d6c981de600c86bba094be9fa5a36a0eb181eb"
   }
  }
 },
 "nbformat": 4,
 "nbformat_minor": 2
}
